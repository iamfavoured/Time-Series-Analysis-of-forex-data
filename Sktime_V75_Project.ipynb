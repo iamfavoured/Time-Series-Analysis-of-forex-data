{
 "cells": [
  {
   "cell_type": "markdown",
   "id": "80516124-ec76-46ea-8f0f-3e42db707206",
   "metadata": {},
   "source": [
    "## Time Series Analysis of V75 Trading Data"
   ]
  },
  {
   "cell_type": "code",
   "execution_count": 1,
   "id": "37a4ee22-d424-4b5a-a1f8-78e51b30d752",
   "metadata": {},
   "outputs": [],
   "source": [
    "## These are live data extracted from the MT5 trading Platform\n",
    "## They are synthetic objects traded for funds\n",
    "## They also run on 24/7 Timeframe unlike the traditional forex\n",
    "## Volatility indices with Deriv"
   ]
  },
  {
   "cell_type": "code",
   "execution_count": 2,
   "id": "ae70b7e2-d056-4c53-850f-249d623a4ed7",
   "metadata": {},
   "outputs": [],
   "source": [
    "### Importing Necessary Lib. for Data Analysis\n",
    "\n",
    "\n",
    "import numpy as np\n",
    "import pandas as pd\n",
    "import matplotlib.pyplot as plt\n",
    "import seaborn as sns\n",
    "from sktime.forecasting.model_selection import temporal_train_test_split\n",
    "from sktime.utils.plotting import plot_series\n",
    "from sktime.clustering.k_means import TimeSeriesKMeans\n",
    "from sktime.utils.seasonality import autocorrelation_seasonality_test\n",
    "from sklearn.model_selection import train_test_split\n",
    "from sktime.forecasting.base import ForecastingHorizon"
   ]
  },
  {
   "cell_type": "code",
   "execution_count": 3,
   "id": "c6c9eb04-594d-4079-b473-6431bc6c1a5a",
   "metadata": {},
   "outputs": [],
   "source": [
    "## This is a personal project - Performing Time Series Analysis on V75 Data\n",
    "\n",
    "V75 = pd.read_csv(r'C:\\Users\\IamFavoured\\Desktop\\IKEBUKWU\\Database\\V75\\V75.csv')"
   ]
  },
  {
   "cell_type": "markdown",
   "id": "f38823a4-1a36-45da-a200-6602dd5a8c60",
   "metadata": {},
   "source": [
    "### Time Series Data Exploration"
   ]
  },
  {
   "cell_type": "code",
   "execution_count": 4,
   "id": "d0fe40b3-d2d4-4a6b-a69e-93c7659bd9f4",
   "metadata": {},
   "outputs": [
    {
     "data": {
      "text/html": [
       "<div>\n",
       "<style scoped>\n",
       "    .dataframe tbody tr th:only-of-type {\n",
       "        vertical-align: middle;\n",
       "    }\n",
       "\n",
       "    .dataframe tbody tr th {\n",
       "        vertical-align: top;\n",
       "    }\n",
       "\n",
       "    .dataframe thead th {\n",
       "        text-align: right;\n",
       "    }\n",
       "</style>\n",
       "<table border=\"1\" class=\"dataframe\">\n",
       "  <thead>\n",
       "    <tr style=\"text-align: right;\">\n",
       "      <th></th>\n",
       "      <th>&lt;DATE&gt;</th>\n",
       "      <th>&lt;OPEN&gt;</th>\n",
       "      <th>&lt;HIGH&gt;</th>\n",
       "      <th>&lt;LOW&gt;</th>\n",
       "      <th>&lt;CLOSE&gt;</th>\n",
       "      <th>&lt;TICKVOL&gt;</th>\n",
       "      <th>&lt;VOL&gt;</th>\n",
       "      <th>&lt;SPREAD&gt;</th>\n",
       "    </tr>\n",
       "  </thead>\n",
       "  <tbody>\n",
       "    <tr>\n",
       "      <th>0</th>\n",
       "      <td>2022.01.01</td>\n",
       "      <td>778582.52</td>\n",
       "      <td>785754.38</td>\n",
       "      <td>747862.31</td>\n",
       "      <td>756372.19</td>\n",
       "      <td>43200</td>\n",
       "      <td>0</td>\n",
       "      <td>13000</td>\n",
       "    </tr>\n",
       "    <tr>\n",
       "      <th>1</th>\n",
       "      <td>2022.01.02</td>\n",
       "      <td>756281.55</td>\n",
       "      <td>771178.31</td>\n",
       "      <td>727028.55</td>\n",
       "      <td>737294.42</td>\n",
       "      <td>43200</td>\n",
       "      <td>0</td>\n",
       "      <td>13000</td>\n",
       "    </tr>\n",
       "    <tr>\n",
       "      <th>2</th>\n",
       "      <td>2022.01.03</td>\n",
       "      <td>737482.33</td>\n",
       "      <td>756305.13</td>\n",
       "      <td>716855.00</td>\n",
       "      <td>719424.72</td>\n",
       "      <td>43200</td>\n",
       "      <td>0</td>\n",
       "      <td>13000</td>\n",
       "    </tr>\n",
       "    <tr>\n",
       "      <th>3</th>\n",
       "      <td>2022.01.04</td>\n",
       "      <td>719187.48</td>\n",
       "      <td>774994.90</td>\n",
       "      <td>718666.96</td>\n",
       "      <td>762897.49</td>\n",
       "      <td>43199</td>\n",
       "      <td>0</td>\n",
       "      <td>13000</td>\n",
       "    </tr>\n",
       "    <tr>\n",
       "      <th>4</th>\n",
       "      <td>2022.01.05</td>\n",
       "      <td>762858.47</td>\n",
       "      <td>777166.96</td>\n",
       "      <td>755138.23</td>\n",
       "      <td>759181.02</td>\n",
       "      <td>43198</td>\n",
       "      <td>0</td>\n",
       "      <td>13000</td>\n",
       "    </tr>\n",
       "  </tbody>\n",
       "</table>\n",
       "</div>"
      ],
      "text/plain": [
       "       <DATE>     <OPEN>     <HIGH>      <LOW>    <CLOSE>  <TICKVOL>  <VOL>  \\\n",
       "0  2022.01.01  778582.52  785754.38  747862.31  756372.19      43200      0   \n",
       "1  2022.01.02  756281.55  771178.31  727028.55  737294.42      43200      0   \n",
       "2  2022.01.03  737482.33  756305.13  716855.00  719424.72      43200      0   \n",
       "3  2022.01.04  719187.48  774994.90  718666.96  762897.49      43199      0   \n",
       "4  2022.01.05  762858.47  777166.96  755138.23  759181.02      43198      0   \n",
       "\n",
       "   <SPREAD>  \n",
       "0     13000  \n",
       "1     13000  \n",
       "2     13000  \n",
       "3     13000  \n",
       "4     13000  "
      ]
     },
     "execution_count": 4,
     "metadata": {},
     "output_type": "execute_result"
    }
   ],
   "source": [
    "### Lets Go Ahead and explore our datasets\n",
    "\n",
    "V75.head()"
   ]
  },
  {
   "cell_type": "code",
   "execution_count": 5,
   "id": "23aed876-f9dc-4273-b236-6700bb02fca0",
   "metadata": {},
   "outputs": [
    {
     "data": {
      "text/plain": [
       "<DATE>       0\n",
       "<OPEN>       0\n",
       "<HIGH>       0\n",
       "<LOW>        0\n",
       "<CLOSE>      0\n",
       "<TICKVOL>    0\n",
       "<VOL>        0\n",
       "<SPREAD>     0\n",
       "dtype: int64"
      ]
     },
     "execution_count": 5,
     "metadata": {},
     "output_type": "execute_result"
    }
   ],
   "source": [
    "### Checking for null values\n",
    "\n",
    "V75.isnull().sum()"
   ]
  },
  {
   "cell_type": "code",
   "execution_count": 6,
   "id": "4f172332-4bed-4f66-88fc-a1e630d85a70",
   "metadata": {},
   "outputs": [
    {
     "name": "stdout",
     "output_type": "stream",
     "text": [
      "<class 'pandas.core.frame.DataFrame'>\n",
      "RangeIndex: 181 entries, 0 to 180\n",
      "Data columns (total 8 columns):\n",
      " #   Column     Non-Null Count  Dtype  \n",
      "---  ------     --------------  -----  \n",
      " 0   <DATE>     181 non-null    object \n",
      " 1   <OPEN>     181 non-null    float64\n",
      " 2   <HIGH>     181 non-null    float64\n",
      " 3   <LOW>      181 non-null    float64\n",
      " 4   <CLOSE>    181 non-null    float64\n",
      " 5   <TICKVOL>  181 non-null    int64  \n",
      " 6   <VOL>      181 non-null    int64  \n",
      " 7   <SPREAD>   181 non-null    int64  \n",
      "dtypes: float64(4), int64(3), object(1)\n",
      "memory usage: 11.4+ KB\n"
     ]
    }
   ],
   "source": [
    "## Checking the basic info such as datatype\n",
    "\n",
    "V75.info()"
   ]
  },
  {
   "cell_type": "code",
   "execution_count": 7,
   "id": "40d8d50d-4f1c-4308-9cba-bcff18993b24",
   "metadata": {},
   "outputs": [
    {
     "data": {
      "text/plain": [
       "<DATE>       0\n",
       "<OPEN>       0\n",
       "<HIGH>       0\n",
       "<LOW>        0\n",
       "<CLOSE>      0\n",
       "<TICKVOL>    0\n",
       "<VOL>        0\n",
       "<SPREAD>     0\n",
       "dtype: int64"
      ]
     },
     "execution_count": 7,
     "metadata": {},
     "output_type": "execute_result"
    }
   ],
   "source": [
    "V75.isnull().sum()  # No null Value"
   ]
  },
  {
   "cell_type": "code",
   "execution_count": 8,
   "id": "30a03afa-4218-44b9-8bb6-c375f9be38fe",
   "metadata": {},
   "outputs": [],
   "source": [
    "## Firstly lets remove the awkward symbol from our column names\n",
    "\n",
    "V75.columns =V75.columns.str.replace('[<,>]','',regex=True)\n",
    "V75.columns=V75.columns.str.title()"
   ]
  },
  {
   "cell_type": "code",
   "execution_count": 9,
   "id": "d941708f-d313-4e64-8266-bc6ee21f08ff",
   "metadata": {},
   "outputs": [],
   "source": [
    "## Converting Date column to Datetime format and making it the dataframe index\n",
    "V75['Date']=pd.to_datetime(V75['Date'])\n",
    "V75.set_index('Date', inplace=True)\n",
    "V75.index.freq=\"D\""
   ]
  },
  {
   "cell_type": "code",
   "execution_count": 10,
   "id": "d66b1eb4-c14d-41d9-9b2a-da0b242066bc",
   "metadata": {},
   "outputs": [
    {
     "data": {
      "text/html": [
       "<div>\n",
       "<style scoped>\n",
       "    .dataframe tbody tr th:only-of-type {\n",
       "        vertical-align: middle;\n",
       "    }\n",
       "\n",
       "    .dataframe tbody tr th {\n",
       "        vertical-align: top;\n",
       "    }\n",
       "\n",
       "    .dataframe thead th {\n",
       "        text-align: right;\n",
       "    }\n",
       "</style>\n",
       "<table border=\"1\" class=\"dataframe\">\n",
       "  <thead>\n",
       "    <tr style=\"text-align: right;\">\n",
       "      <th></th>\n",
       "      <th>Open</th>\n",
       "      <th>High</th>\n",
       "      <th>Low</th>\n",
       "      <th>Close</th>\n",
       "      <th>Tickvol</th>\n",
       "      <th>Vol</th>\n",
       "      <th>Spread</th>\n",
       "    </tr>\n",
       "    <tr>\n",
       "      <th>Date</th>\n",
       "      <th></th>\n",
       "      <th></th>\n",
       "      <th></th>\n",
       "      <th></th>\n",
       "      <th></th>\n",
       "      <th></th>\n",
       "      <th></th>\n",
       "    </tr>\n",
       "  </thead>\n",
       "  <tbody>\n",
       "    <tr>\n",
       "      <th>2022-01-01</th>\n",
       "      <td>778582.52</td>\n",
       "      <td>785754.38</td>\n",
       "      <td>747862.31</td>\n",
       "      <td>756372.19</td>\n",
       "      <td>43200</td>\n",
       "      <td>0</td>\n",
       "      <td>13000</td>\n",
       "    </tr>\n",
       "    <tr>\n",
       "      <th>2022-01-02</th>\n",
       "      <td>756281.55</td>\n",
       "      <td>771178.31</td>\n",
       "      <td>727028.55</td>\n",
       "      <td>737294.42</td>\n",
       "      <td>43200</td>\n",
       "      <td>0</td>\n",
       "      <td>13000</td>\n",
       "    </tr>\n",
       "    <tr>\n",
       "      <th>2022-01-03</th>\n",
       "      <td>737482.33</td>\n",
       "      <td>756305.13</td>\n",
       "      <td>716855.00</td>\n",
       "      <td>719424.72</td>\n",
       "      <td>43200</td>\n",
       "      <td>0</td>\n",
       "      <td>13000</td>\n",
       "    </tr>\n",
       "    <tr>\n",
       "      <th>2022-01-04</th>\n",
       "      <td>719187.48</td>\n",
       "      <td>774994.90</td>\n",
       "      <td>718666.96</td>\n",
       "      <td>762897.49</td>\n",
       "      <td>43199</td>\n",
       "      <td>0</td>\n",
       "      <td>13000</td>\n",
       "    </tr>\n",
       "    <tr>\n",
       "      <th>2022-01-05</th>\n",
       "      <td>762858.47</td>\n",
       "      <td>777166.96</td>\n",
       "      <td>755138.23</td>\n",
       "      <td>759181.02</td>\n",
       "      <td>43198</td>\n",
       "      <td>0</td>\n",
       "      <td>13000</td>\n",
       "    </tr>\n",
       "  </tbody>\n",
       "</table>\n",
       "</div>"
      ],
      "text/plain": [
       "                 Open       High        Low      Close  Tickvol  Vol  Spread\n",
       "Date                                                                        \n",
       "2022-01-01  778582.52  785754.38  747862.31  756372.19    43200    0   13000\n",
       "2022-01-02  756281.55  771178.31  727028.55  737294.42    43200    0   13000\n",
       "2022-01-03  737482.33  756305.13  716855.00  719424.72    43200    0   13000\n",
       "2022-01-04  719187.48  774994.90  718666.96  762897.49    43199    0   13000\n",
       "2022-01-05  762858.47  777166.96  755138.23  759181.02    43198    0   13000"
      ]
     },
     "execution_count": 10,
     "metadata": {},
     "output_type": "execute_result"
    }
   ],
   "source": [
    "V75.head()"
   ]
  },
  {
   "cell_type": "code",
   "execution_count": 11,
   "id": "5e24c173-6659-43e5-92f9-dc0ba193419b",
   "metadata": {},
   "outputs": [
    {
     "data": {
      "text/plain": [
       "DatetimeIndex(['2022-01-01', '2022-01-02', '2022-01-03', '2022-01-04',\n",
       "               '2022-01-05', '2022-01-06', '2022-01-07', '2022-01-08',\n",
       "               '2022-01-09', '2022-01-10',\n",
       "               ...\n",
       "               '2022-06-21', '2022-06-22', '2022-06-23', '2022-06-24',\n",
       "               '2022-06-25', '2022-06-26', '2022-06-27', '2022-06-28',\n",
       "               '2022-06-29', '2022-06-30'],\n",
       "              dtype='datetime64[ns]', name='Date', length=181, freq='D')"
      ]
     },
     "execution_count": 11,
     "metadata": {},
     "output_type": "execute_result"
    }
   ],
   "source": [
    "V75.index"
   ]
  },
  {
   "cell_type": "code",
   "execution_count": 12,
   "id": "4113b7ae-3d66-4fe6-82d9-1157c9894681",
   "metadata": {},
   "outputs": [],
   "source": [
    "## Lets split our data into train and test\n",
    "## I will be limiting my test size(rows) to 5 because:\n",
    "## The higher the number of train datasets, better accuracy of the model\n",
    "## The project is intended to predict the prices of the candle stick for the next week, (5 days)\n",
    "## The higher the number of the test size, the greater the error, because the error of the forecasts keeps propagating along each day\n",
    "\n",
    "y_train,y_test = temporal_train_test_split(V75, test_size=5)"
   ]
  },
  {
   "cell_type": "code",
   "execution_count": 13,
   "id": "abd64ada-c96f-4c5d-85e7-66a0c23e23b9",
   "metadata": {},
   "outputs": [],
   "source": [
    "assert y_train.shape[0] + y_test.shape[0] == V75.shape[0]"
   ]
  },
  {
   "cell_type": "code",
   "execution_count": 14,
   "id": "048e7a5f-ac9c-4ad7-8b46-5b47519e0034",
   "metadata": {},
   "outputs": [
    {
     "data": {
      "text/html": [
       "<div>\n",
       "<style scoped>\n",
       "    .dataframe tbody tr th:only-of-type {\n",
       "        vertical-align: middle;\n",
       "    }\n",
       "\n",
       "    .dataframe tbody tr th {\n",
       "        vertical-align: top;\n",
       "    }\n",
       "\n",
       "    .dataframe thead th {\n",
       "        text-align: right;\n",
       "    }\n",
       "</style>\n",
       "<table border=\"1\" class=\"dataframe\">\n",
       "  <thead>\n",
       "    <tr style=\"text-align: right;\">\n",
       "      <th></th>\n",
       "      <th>Tickvol</th>\n",
       "      <th>Vol</th>\n",
       "      <th>Spread</th>\n",
       "    </tr>\n",
       "    <tr>\n",
       "      <th>Date</th>\n",
       "      <th></th>\n",
       "      <th></th>\n",
       "      <th></th>\n",
       "    </tr>\n",
       "  </thead>\n",
       "  <tbody>\n",
       "    <tr>\n",
       "      <th>2022-01-01</th>\n",
       "      <td>43200</td>\n",
       "      <td>0</td>\n",
       "      <td>13000</td>\n",
       "    </tr>\n",
       "    <tr>\n",
       "      <th>2022-01-02</th>\n",
       "      <td>43200</td>\n",
       "      <td>0</td>\n",
       "      <td>13000</td>\n",
       "    </tr>\n",
       "    <tr>\n",
       "      <th>2022-01-03</th>\n",
       "      <td>43200</td>\n",
       "      <td>0</td>\n",
       "      <td>13000</td>\n",
       "    </tr>\n",
       "    <tr>\n",
       "      <th>2022-01-04</th>\n",
       "      <td>43199</td>\n",
       "      <td>0</td>\n",
       "      <td>13000</td>\n",
       "    </tr>\n",
       "    <tr>\n",
       "      <th>2022-01-05</th>\n",
       "      <td>43198</td>\n",
       "      <td>0</td>\n",
       "      <td>13000</td>\n",
       "    </tr>\n",
       "  </tbody>\n",
       "</table>\n",
       "</div>"
      ],
      "text/plain": [
       "            Tickvol  Vol  Spread\n",
       "Date                            \n",
       "2022-01-01    43200    0   13000\n",
       "2022-01-02    43200    0   13000\n",
       "2022-01-03    43200    0   13000\n",
       "2022-01-04    43199    0   13000\n",
       "2022-01-05    43198    0   13000"
      ]
     },
     "execution_count": 14,
     "metadata": {},
     "output_type": "execute_result"
    }
   ],
   "source": [
    "### Lets  get our exogenous variable\n",
    "X=y_train[['Tickvol','Vol','Spread']]\n",
    "X.head()"
   ]
  },
  {
   "cell_type": "code",
   "execution_count": 15,
   "id": "99b5805d-c26c-4b72-bc54-41d279231fb7",
   "metadata": {},
   "outputs": [],
   "source": [
    "y_train.drop(columns=['Tickvol','Vol','Spread'],inplace=True)\n",
    "y_test.drop(columns=['Tickvol','Vol','Spread'],inplace=True)"
   ]
  },
  {
   "cell_type": "code",
   "execution_count": 16,
   "id": "1192a79f-b00c-46ec-b17d-60c2dfff7f3c",
   "metadata": {},
   "outputs": [
    {
     "data": {
      "text/html": [
       "<div>\n",
       "<style scoped>\n",
       "    .dataframe tbody tr th:only-of-type {\n",
       "        vertical-align: middle;\n",
       "    }\n",
       "\n",
       "    .dataframe tbody tr th {\n",
       "        vertical-align: top;\n",
       "    }\n",
       "\n",
       "    .dataframe thead th {\n",
       "        text-align: right;\n",
       "    }\n",
       "</style>\n",
       "<table border=\"1\" class=\"dataframe\">\n",
       "  <thead>\n",
       "    <tr style=\"text-align: right;\">\n",
       "      <th></th>\n",
       "      <th>Open</th>\n",
       "      <th>High</th>\n",
       "      <th>Low</th>\n",
       "      <th>Close</th>\n",
       "    </tr>\n",
       "    <tr>\n",
       "      <th>Date</th>\n",
       "      <th></th>\n",
       "      <th></th>\n",
       "      <th></th>\n",
       "      <th></th>\n",
       "    </tr>\n",
       "  </thead>\n",
       "  <tbody>\n",
       "    <tr>\n",
       "      <th>2022-01-01</th>\n",
       "      <td>778582.52</td>\n",
       "      <td>785754.38</td>\n",
       "      <td>747862.31</td>\n",
       "      <td>756372.19</td>\n",
       "    </tr>\n",
       "    <tr>\n",
       "      <th>2022-01-02</th>\n",
       "      <td>756281.55</td>\n",
       "      <td>771178.31</td>\n",
       "      <td>727028.55</td>\n",
       "      <td>737294.42</td>\n",
       "    </tr>\n",
       "    <tr>\n",
       "      <th>2022-01-03</th>\n",
       "      <td>737482.33</td>\n",
       "      <td>756305.13</td>\n",
       "      <td>716855.00</td>\n",
       "      <td>719424.72</td>\n",
       "    </tr>\n",
       "    <tr>\n",
       "      <th>2022-01-04</th>\n",
       "      <td>719187.48</td>\n",
       "      <td>774994.90</td>\n",
       "      <td>718666.96</td>\n",
       "      <td>762897.49</td>\n",
       "    </tr>\n",
       "    <tr>\n",
       "      <th>2022-01-05</th>\n",
       "      <td>762858.47</td>\n",
       "      <td>777166.96</td>\n",
       "      <td>755138.23</td>\n",
       "      <td>759181.02</td>\n",
       "    </tr>\n",
       "    <tr>\n",
       "      <th>...</th>\n",
       "      <td>...</td>\n",
       "      <td>...</td>\n",
       "      <td>...</td>\n",
       "      <td>...</td>\n",
       "    </tr>\n",
       "    <tr>\n",
       "      <th>2022-06-21</th>\n",
       "      <td>817235.95</td>\n",
       "      <td>821091.83</td>\n",
       "      <td>764420.84</td>\n",
       "      <td>765718.85</td>\n",
       "    </tr>\n",
       "    <tr>\n",
       "      <th>2022-06-22</th>\n",
       "      <td>766003.64</td>\n",
       "      <td>776218.69</td>\n",
       "      <td>728797.56</td>\n",
       "      <td>752215.43</td>\n",
       "    </tr>\n",
       "    <tr>\n",
       "      <th>2022-06-23</th>\n",
       "      <td>752066.13</td>\n",
       "      <td>752952.29</td>\n",
       "      <td>715731.20</td>\n",
       "      <td>721831.99</td>\n",
       "    </tr>\n",
       "    <tr>\n",
       "      <th>2022-06-24</th>\n",
       "      <td>721681.67</td>\n",
       "      <td>742705.61</td>\n",
       "      <td>669980.11</td>\n",
       "      <td>674070.69</td>\n",
       "    </tr>\n",
       "    <tr>\n",
       "      <th>2022-06-25</th>\n",
       "      <td>674232.46</td>\n",
       "      <td>680010.43</td>\n",
       "      <td>649490.35</td>\n",
       "      <td>657919.50</td>\n",
       "    </tr>\n",
       "  </tbody>\n",
       "</table>\n",
       "<p>176 rows × 4 columns</p>\n",
       "</div>"
      ],
      "text/plain": [
       "                 Open       High        Low      Close\n",
       "Date                                                  \n",
       "2022-01-01  778582.52  785754.38  747862.31  756372.19\n",
       "2022-01-02  756281.55  771178.31  727028.55  737294.42\n",
       "2022-01-03  737482.33  756305.13  716855.00  719424.72\n",
       "2022-01-04  719187.48  774994.90  718666.96  762897.49\n",
       "2022-01-05  762858.47  777166.96  755138.23  759181.02\n",
       "...               ...        ...        ...        ...\n",
       "2022-06-21  817235.95  821091.83  764420.84  765718.85\n",
       "2022-06-22  766003.64  776218.69  728797.56  752215.43\n",
       "2022-06-23  752066.13  752952.29  715731.20  721831.99\n",
       "2022-06-24  721681.67  742705.61  669980.11  674070.69\n",
       "2022-06-25  674232.46  680010.43  649490.35  657919.50\n",
       "\n",
       "[176 rows x 4 columns]"
      ]
     },
     "execution_count": 16,
     "metadata": {},
     "output_type": "execute_result"
    }
   ],
   "source": [
    "y_train"
   ]
  },
  {
   "cell_type": "code",
   "execution_count": 17,
   "id": "78439c8d-ea3d-4c03-af10-d1a3084ac188",
   "metadata": {},
   "outputs": [
    {
     "data": {
      "text/html": [
       "<div>\n",
       "<style scoped>\n",
       "    .dataframe tbody tr th:only-of-type {\n",
       "        vertical-align: middle;\n",
       "    }\n",
       "\n",
       "    .dataframe tbody tr th {\n",
       "        vertical-align: top;\n",
       "    }\n",
       "\n",
       "    .dataframe thead th {\n",
       "        text-align: right;\n",
       "    }\n",
       "</style>\n",
       "<table border=\"1\" class=\"dataframe\">\n",
       "  <thead>\n",
       "    <tr style=\"text-align: right;\">\n",
       "      <th></th>\n",
       "      <th>Open</th>\n",
       "      <th>High</th>\n",
       "      <th>Low</th>\n",
       "      <th>Close</th>\n",
       "    </tr>\n",
       "    <tr>\n",
       "      <th>Date</th>\n",
       "      <th></th>\n",
       "      <th></th>\n",
       "      <th></th>\n",
       "      <th></th>\n",
       "    </tr>\n",
       "  </thead>\n",
       "  <tbody>\n",
       "    <tr>\n",
       "      <th>2022-06-26</th>\n",
       "      <td>657985.23</td>\n",
       "      <td>668108.86</td>\n",
       "      <td>632510.11</td>\n",
       "      <td>642055.41</td>\n",
       "    </tr>\n",
       "    <tr>\n",
       "      <th>2022-06-27</th>\n",
       "      <td>642011.48</td>\n",
       "      <td>660647.21</td>\n",
       "      <td>624405.63</td>\n",
       "      <td>658478.13</td>\n",
       "    </tr>\n",
       "    <tr>\n",
       "      <th>2022-06-28</th>\n",
       "      <td>658371.52</td>\n",
       "      <td>683929.15</td>\n",
       "      <td>652974.60</td>\n",
       "      <td>681032.63</td>\n",
       "    </tr>\n",
       "    <tr>\n",
       "      <th>2022-06-29</th>\n",
       "      <td>681026.46</td>\n",
       "      <td>692248.11</td>\n",
       "      <td>650419.82</td>\n",
       "      <td>657059.55</td>\n",
       "    </tr>\n",
       "    <tr>\n",
       "      <th>2022-06-30</th>\n",
       "      <td>657068.19</td>\n",
       "      <td>669833.29</td>\n",
       "      <td>635972.54</td>\n",
       "      <td>650610.08</td>\n",
       "    </tr>\n",
       "  </tbody>\n",
       "</table>\n",
       "</div>"
      ],
      "text/plain": [
       "                 Open       High        Low      Close\n",
       "Date                                                  \n",
       "2022-06-26  657985.23  668108.86  632510.11  642055.41\n",
       "2022-06-27  642011.48  660647.21  624405.63  658478.13\n",
       "2022-06-28  658371.52  683929.15  652974.60  681032.63\n",
       "2022-06-29  681026.46  692248.11  650419.82  657059.55\n",
       "2022-06-30  657068.19  669833.29  635972.54  650610.08"
      ]
     },
     "execution_count": 17,
     "metadata": {},
     "output_type": "execute_result"
    }
   ],
   "source": [
    "y_test"
   ]
  },
  {
   "cell_type": "code",
   "execution_count": 18,
   "id": "e9a46aec-ff12-4ed2-a248-bf325ce9f185",
   "metadata": {},
   "outputs": [
    {
     "data": {
      "text/plain": [
       "False"
      ]
     },
     "execution_count": 18,
     "metadata": {},
     "output_type": "execute_result"
    }
   ],
   "source": [
    "## Checking if our data is a seasonal data\n",
    "## It is False, thus a non-seasonal data\n",
    "## If it was true, we would deploy a K-means time series to group the particular season in\n",
    "## which a distinctive trend occurs\n",
    "\n",
    "autocorrelation_seasonality_test(V75.Close,sp=12)"
   ]
  },
  {
   "cell_type": "markdown",
   "id": "1e544c0e-d1ba-4d00-a000-9bd54235558c",
   "metadata": {},
   "source": [
    "### Plotting our Time Series Data"
   ]
  },
  {
   "cell_type": "code",
   "execution_count": 19,
   "id": "0ace43f0-4fa8-456a-b5b9-2e476b656da0",
   "metadata": {},
   "outputs": [
    {
     "data": {
      "image/png": "[encoded data removed]",
      "text/plain": [
       "<Figure size 1152x288 with 1 Axes>"
      ]
     },
     "metadata": {
      "needs_background": "light"
     },
     "output_type": "display_data"
    }
   ],
   "source": [
    "fig,ax=plot_series(y_train.Open,y_test.Open,labels=['Train','Test'])\n",
    "ax.set(title='Time Series Plot');\n",
    "plt.xticks(rotation=15);"
   ]
  },
  {
   "cell_type": "markdown",
   "id": "78ff74a2-9ff4-43e8-8d91-bdefa7da7343",
   "metadata": {},
   "source": [
    "### Specify our Forecasting Horizon"
   ]
  },
  {
   "cell_type": "code",
   "execution_count": 20,
   "id": "b61a6ad1-2654-4989-b20f-14f755263170",
   "metadata": {},
   "outputs": [
    {
     "data": {
      "text/plain": [
       "ForecastingHorizon(['2022-06-26', '2022-06-27', '2022-06-28', '2022-06-29',\n",
       "               '2022-06-30'],\n",
       "              dtype='datetime64[ns]', freq='D', is_relative=False)"
      ]
     },
     "execution_count": 20,
     "metadata": {},
     "output_type": "execute_result"
    }
   ],
   "source": [
    "##Absolute Forecasting Horizon\n",
    "fha = ForecastingHorizon(y_test.index,is_relative=False,freq=\"D\")\n",
    "fha"
   ]
  },
  {
   "cell_type": "code",
   "execution_count": 21,
   "id": "a097105c-e7dc-4d74-b508-697c9ba42857",
   "metadata": {},
   "outputs": [
    {
     "data": {
      "text/plain": [
       "ForecastingHorizon([0, 1, 2, 3, 4], dtype='int64', is_relative=True)"
      ]
     },
     "execution_count": 21,
     "metadata": {},
     "output_type": "execute_result"
    }
   ],
   "source": [
    "## Relative Forecasting Horizon\n",
    "fhr=fha.to_relative(y_test.index[0])\n",
    "fhr"
   ]
  },
  {
   "cell_type": "code",
   "execution_count": 22,
   "id": "655556c5-2cfc-4684-a022-48b637c071ff",
   "metadata": {},
   "outputs": [
    {
     "data": {
      "text/plain": [
       "ForecastingHorizon(['2022-06-26', '2022-06-27', '2022-06-28', '2022-06-29',\n",
       "               '2022-06-30'],\n",
       "              dtype='datetime64[ns]', freq='D', is_relative=False)"
      ]
     },
     "execution_count": 22,
     "metadata": {},
     "output_type": "execute_result"
    }
   ],
   "source": [
    "# Another way to do it\n",
    "## This is my best and what i will be using in the function\n",
    "\n",
    "fh=ForecastingHorizon(pd.date_range(y_test.index[0],periods=5,freq='D'),is_relative=False)\n",
    "fh"
   ]
  },
  {
   "cell_type": "markdown",
   "id": "b430ed50-0760-4f87-8075-a6fc2db709b2",
   "metadata": {},
   "source": [
    "### Obtaining Our Forecasting Model"
   ]
  },
  {
   "cell_type": "code",
   "execution_count": 23,
   "id": "f1f302d5-996d-40f1-8cc0-a59a4c6546e0",
   "metadata": {},
   "outputs": [],
   "source": [
    "## Since we are dealing with a multivariate forecasting approach\n",
    "## That entertains exogeneous variabe(X)\n",
    "## That is trying to predict the outcome of more than one time series data with the aid of another data\n",
    "## We will need a multivariate model that is best suited for multivariate analysis"
   ]
  },
  {
   "cell_type": "code",
   "execution_count": 24,
   "id": "f3b85ca4-3631-4035-bbec-35cc041ff290",
   "metadata": {},
   "outputs": [],
   "source": [
    "## Lets import all the multivariate time series model\n",
    "from sktime.registry import all_estimators"
   ]
  },
  {
   "cell_type": "code",
   "execution_count": 25,
   "id": "f53e88a3-920a-4e4b-b2f2-78d96d3460bd",
   "metadata": {},
   "outputs": [
    {
     "data": {
      "text/html": [
       "<div>\n",
       "<style scoped>\n",
       "    .dataframe tbody tr th:only-of-type {\n",
       "        vertical-align: middle;\n",
       "    }\n",
       "\n",
       "    .dataframe tbody tr th {\n",
       "        vertical-align: top;\n",
       "    }\n",
       "\n",
       "    .dataframe thead th {\n",
       "        text-align: right;\n",
       "    }\n",
       "</style>\n",
       "<table border=\"1\" class=\"dataframe\">\n",
       "  <thead>\n",
       "    <tr style=\"text-align: right;\">\n",
       "      <th></th>\n",
       "      <th>name</th>\n",
       "      <th>estimator</th>\n",
       "      <th>requires-fh-in-fit</th>\n",
       "      <th>X-y-must-have-same-index</th>\n",
       "      <th>ignores-exogeneous-X</th>\n",
       "    </tr>\n",
       "  </thead>\n",
       "  <tbody>\n",
       "    <tr>\n",
       "      <th>0</th>\n",
       "      <td>DynamicFactor</td>\n",
       "      <td>&lt;class 'sktime.forecasting.dynamic_factor.Dyna...</td>\n",
       "      <td>False</td>\n",
       "      <td>True</td>\n",
       "      <td>False</td>\n",
       "    </tr>\n",
       "    <tr>\n",
       "      <th>1</th>\n",
       "      <td>VARMAX</td>\n",
       "      <td>&lt;class 'sktime.forecasting.varmax.VARMAX'&gt;</td>\n",
       "      <td>False</td>\n",
       "      <td>True</td>\n",
       "      <td>False</td>\n",
       "    </tr>\n",
       "    <tr>\n",
       "      <th>2</th>\n",
       "      <td>VECM</td>\n",
       "      <td>&lt;class 'sktime.forecasting.vecm.VECM'&gt;</td>\n",
       "      <td>False</td>\n",
       "      <td>True</td>\n",
       "      <td>False</td>\n",
       "    </tr>\n",
       "  </tbody>\n",
       "</table>\n",
       "</div>"
      ],
      "text/plain": [
       "            name                                          estimator  \\\n",
       "0  DynamicFactor  <class 'sktime.forecasting.dynamic_factor.Dyna...   \n",
       "1         VARMAX         <class 'sktime.forecasting.varmax.VARMAX'>   \n",
       "2           VECM             <class 'sktime.forecasting.vecm.VECM'>   \n",
       "\n",
       "   requires-fh-in-fit  X-y-must-have-same-index  ignores-exogeneous-X  \n",
       "0               False                      True                 False  \n",
       "1               False                      True                 False  \n",
       "2               False                      True                 False  "
      ]
     },
     "execution_count": 25,
     "metadata": {},
     "output_type": "execute_result"
    }
   ],
   "source": [
    "## Filter the models to know the one that will best suit us\n",
    "\n",
    "all_estimators(return_tags=['requires-fh-in-fit','X-y-must-have-same-index','ignores-exogeneous-X'],as_dataframe=True,\n",
    "               filter_tags={\"scitype:y\":\"multivariate\",\"ignores-exogeneous-X\":False})"
   ]
  },
  {
   "cell_type": "code",
   "execution_count": 26,
   "id": "e32885ea-387d-4233-8418-e86f6d9c9ade",
   "metadata": {},
   "outputs": [],
   "source": [
    "## Now we Know the models best suited for multivariate approach\n",
    "## Lets go ahead and import them\n",
    "\n",
    "from sktime.forecasting.dynamic_factor import DynamicFactor\n",
    "from sktime.forecasting.varmax import VARMAX\n",
    "from sktime.forecasting.vecm import VECM\n",
    "from sktime.performance_metrics.forecasting import mean_absolute_percentage_error  ##Time Series Metric"
   ]
  },
  {
   "cell_type": "markdown",
   "id": "abcf1c72-bdfe-44fe-a011-4fa7f2f03801",
   "metadata": {},
   "source": [
    "## Using Ensemble Method to get our best Model & Forecast"
   ]
  },
  {
   "cell_type": "code",
   "execution_count": 27,
   "id": "b599becc-182c-4c28-ad47-f7b3e0990e50",
   "metadata": {},
   "outputs": [],
   "source": [
    "## We are going to use the multiplexForecaster which is an ensemple type\n",
    "## MultiplexForecaster for selecting among different models\n",
    "## MultiplexForecaster facilitates a framework for performing model selection process over different model classes\n",
    "\n",
    "from sktime.forecasting.compose import MultiplexForecaster\n",
    "from sktime.forecasting.model_selection import ForecastingGridSearchCV,ExpandingWindowSplitter"
   ]
  },
  {
   "cell_type": "code",
   "execution_count": 28,
   "id": "74255735-265d-4b59-927a-f25de36de040",
   "metadata": {},
   "outputs": [],
   "source": [
    "forecaster = MultiplexForecaster(forecasters=[(\"varmax\", VARMAX()),(\"vecm\", VECM()),(\"dynamic_forecaster\", DynamicFactor())])"
   ]
  },
  {
   "cell_type": "code",
   "execution_count": 29,
   "id": "6fde39b4-e4fc-4fce-b717-25826c5aea57",
   "metadata": {},
   "outputs": [],
   "source": [
    "## Similar to cross-validation of sklearn \n",
    "\n",
    "cv=ExpandingWindowSplitter(start_with_window=True,step_length=3)"
   ]
  },
  {
   "cell_type": "code",
   "execution_count": 30,
   "id": "6cd1bd7b-76f2-467e-ba32-e7c45d3be2b3",
   "metadata": {},
   "outputs": [],
   "source": [
    "gscv = ForecastingGridSearchCV(cv=cv,param_grid={\"selected_forecaster\":[\"varmax\", \"vecm\", \"dynamic_forecaster\"]},forecaster=forecaster)"
   ]
  },
  {
   "cell_type": "code",
   "execution_count": 31,
   "id": "15d7bf27-8298-4ae6-b6bf-07d8d28bcb74",
   "metadata": {},
   "outputs": [
    {
     "name": "stderr",
     "output_type": "stream",
     "text": [
      "C:\\Users\\IamFavoured\\anaconda3\\lib\\site-packages\\statsmodels\\base\\model.py:604: ConvergenceWarning: Maximum Likelihood optimization failed to converge. Check mle_retvals\n",
      "  warnings.warn(\"Maximum Likelihood optimization failed to \"\n",
      "C:\\Users\\IamFavoured\\anaconda3\\lib\\site-packages\\statsmodels\\base\\model.py:604: ConvergenceWarning: Maximum Likelihood optimization failed to converge. Check mle_retvals\n",
      "  warnings.warn(\"Maximum Likelihood optimization failed to \"\n",
      "C:\\Users\\IamFavoured\\anaconda3\\lib\\site-packages\\statsmodels\\base\\model.py:604: ConvergenceWarning: Maximum Likelihood optimization failed to converge. Check mle_retvals\n",
      "  warnings.warn(\"Maximum Likelihood optimization failed to \"\n",
      "C:\\Users\\IamFavoured\\anaconda3\\lib\\site-packages\\statsmodels\\base\\model.py:604: ConvergenceWarning: Maximum Likelihood optimization failed to converge. Check mle_retvals\n",
      "  warnings.warn(\"Maximum Likelihood optimization failed to \"\n",
      "C:\\Users\\IamFavoured\\anaconda3\\lib\\site-packages\\statsmodels\\base\\model.py:604: ConvergenceWarning: Maximum Likelihood optimization failed to converge. Check mle_retvals\n",
      "  warnings.warn(\"Maximum Likelihood optimization failed to \"\n",
      "C:\\Users\\IamFavoured\\anaconda3\\lib\\site-packages\\statsmodels\\base\\model.py:604: ConvergenceWarning: Maximum Likelihood optimization failed to converge. Check mle_retvals\n",
      "  warnings.warn(\"Maximum Likelihood optimization failed to \"\n",
      "C:\\Users\\IamFavoured\\anaconda3\\lib\\site-packages\\statsmodels\\base\\model.py:604: ConvergenceWarning: Maximum Likelihood optimization failed to converge. Check mle_retvals\n",
      "  warnings.warn(\"Maximum Likelihood optimization failed to \"\n",
      "C:\\Users\\IamFavoured\\anaconda3\\lib\\site-packages\\statsmodels\\base\\model.py:604: ConvergenceWarning: Maximum Likelihood optimization failed to converge. Check mle_retvals\n",
      "  warnings.warn(\"Maximum Likelihood optimization failed to \"\n",
      "C:\\Users\\IamFavoured\\anaconda3\\lib\\site-packages\\statsmodels\\base\\model.py:604: ConvergenceWarning: Maximum Likelihood optimization failed to converge. Check mle_retvals\n",
      "  warnings.warn(\"Maximum Likelihood optimization failed to \"\n"
     ]
    },
    {
     "data": {
      "text/html": [
       "<style>#sk-container-id-1 {color: black;background-color: white;}#sk-container-id-1 pre{padding: 0;}#sk-container-id-1 div.sk-toggleable {background-color: white;}#sk-container-id-1 label.sk-toggleable__label {cursor: pointer;display: block;width: 100%;margin-bottom: 0;padding: 0.3em;box-sizing: border-box;text-align: center;}#sk-container-id-1 label.sk-toggleable__label-arrow:before {content: \"▸\";float: left;margin-right: 0.25em;color: #696969;}#sk-container-id-1 label.sk-toggleable__label-arrow:hover:before {color: black;}#sk-container-id-1 div.sk-estimator:hover label.sk-toggleable__label-arrow:before {color: black;}#sk-container-id-1 div.sk-toggleable__content {max-height: 0;max-width: 0;overflow: hidden;text-align: left;background-color: #f0f8ff;}#sk-container-id-1 div.sk-toggleable__content pre {margin: 0.2em;color: black;border-radius: 0.25em;background-color: #f0f8ff;}#sk-container-id-1 input.sk-toggleable__control:checked~div.sk-toggleable__content {max-height: 200px;max-width: 100%;overflow: auto;}#sk-container-id-1 input.sk-toggleable__control:checked~label.sk-toggleable__label-arrow:before {content: \"▾\";}#sk-container-id-1 div.sk-estimator input.sk-toggleable__control:checked~label.sk-toggleable__label {background-color: #d4ebff;}#sk-container-id-1 div.sk-label input.sk-toggleable__control:checked~label.sk-toggleable__label {background-color: #d4ebff;}#sk-container-id-1 input.sk-hidden--visually {border: 0;clip: rect(1px 1px 1px 1px);clip: rect(1px, 1px, 1px, 1px);height: 1px;margin: -1px;overflow: hidden;padding: 0;position: absolute;width: 1px;}#sk-container-id-1 div.sk-estimator {font-family: monospace;background-color: #f0f8ff;border: 1px dotted black;border-radius: 0.25em;box-sizing: border-box;margin-bottom: 0.5em;}#sk-container-id-1 div.sk-estimator:hover {background-color: #d4ebff;}#sk-container-id-1 div.sk-parallel-item::after {content: \"\";width: 100%;border-bottom: 1px solid gray;flex-grow: 1;}#sk-container-id-1 div.sk-label:hover label.sk-toggleable__label {background-color: #d4ebff;}#sk-container-id-1 div.sk-serial::before {content: \"\";position: absolute;border-left: 1px solid gray;box-sizing: border-box;top: 0;bottom: 0;left: 50%;z-index: 0;}#sk-container-id-1 div.sk-serial {display: flex;flex-direction: column;align-items: center;background-color: white;padding-right: 0.2em;padding-left: 0.2em;position: relative;}#sk-container-id-1 div.sk-item {position: relative;z-index: 1;}#sk-container-id-1 div.sk-parallel {display: flex;align-items: stretch;justify-content: center;background-color: white;position: relative;}#sk-container-id-1 div.sk-item::before, #sk-container-id-1 div.sk-parallel-item::before {content: \"\";position: absolute;border-left: 1px solid gray;box-sizing: border-box;top: 0;bottom: 0;left: 50%;z-index: -1;}#sk-container-id-1 div.sk-parallel-item {display: flex;flex-direction: column;z-index: 1;position: relative;background-color: white;}#sk-container-id-1 div.sk-parallel-item:first-child::after {align-self: flex-end;width: 50%;}#sk-container-id-1 div.sk-parallel-item:last-child::after {align-self: flex-start;width: 50%;}#sk-container-id-1 div.sk-parallel-item:only-child::after {width: 0;}#sk-container-id-1 div.sk-dashed-wrapped {border: 1px dashed gray;margin: 0 0.4em 0.5em 0.4em;box-sizing: border-box;padding-bottom: 0.4em;background-color: white;}#sk-container-id-1 div.sk-label label {font-family: monospace;font-weight: bold;display: inline-block;line-height: 1.2em;}#sk-container-id-1 div.sk-label-container {text-align: center;}#sk-container-id-1 div.sk-container {/* jupyter's `normalize.less` sets `[hidden] { display: none; }` but bootstrap.min.css set `[hidden] { display: none !important; }` so we also need the `!important` here to be able to override the default hidden behavior on the sphinx rendered scikit-learn.org. See: https://github.com/scikit-learn/scikit-learn/issues/21755 */display: inline-block !important;position: relative;}#sk-container-id-1 div.sk-text-repr-fallback {display: none;}</style><div id=\"sk-container-id-1\" class=\"sk-top-container\"><div class=\"sk-text-repr-fallback\"><pre>ForecastingGridSearchCV(cv=ExpandingWindowSplitter(step_length=3),\n",
       "                        forecaster=MultiplexForecaster(forecasters=[(&#x27;varmax&#x27;,\n",
       "                                                                     VARMAX()),\n",
       "                                                                    (&#x27;vecm&#x27;,\n",
       "                                                                     VECM()),\n",
       "                                                                    (&#x27;dynamic_forecaster&#x27;,\n",
       "                                                                     DynamicFactor())]),\n",
       "                        param_grid={&#x27;selected_forecaster&#x27;: [&#x27;varmax&#x27;, &#x27;vecm&#x27;,\n",
       "                                                            &#x27;dynamic_forecaster&#x27;]})</pre><b>In a Jupyter environment, please rerun this cell to show the HTML representation or trust the notebook. <br />On GitHub, the HTML representation is unable to render, please try loading this page with nbviewer.org.</b></div><div class=\"sk-container\" hidden><div class=\"sk-item sk-dashed-wrapped\"><div class=\"sk-label-container\"><div class=\"sk-label sk-toggleable\"><input class=\"sk-toggleable__control sk-hidden--visually\" id=\"sk-estimator-id-1\" type=\"checkbox\" ><label for=\"sk-estimator-id-1\" class=\"sk-toggleable__label sk-toggleable__label-arrow\">ForecastingGridSearchCV</label><div class=\"sk-toggleable__content\"><pre>ForecastingGridSearchCV(cv=ExpandingWindowSplitter(step_length=3),\n",
       "                        forecaster=MultiplexForecaster(forecasters=[(&#x27;varmax&#x27;,\n",
       "                                                                     VARMAX()),\n",
       "                                                                    (&#x27;vecm&#x27;,\n",
       "                                                                     VECM()),\n",
       "                                                                    (&#x27;dynamic_forecaster&#x27;,\n",
       "                                                                     DynamicFactor())]),\n",
       "                        param_grid={&#x27;selected_forecaster&#x27;: [&#x27;varmax&#x27;, &#x27;vecm&#x27;,\n",
       "                                                            &#x27;dynamic_forecaster&#x27;]})</pre></div></div></div><div class=\"sk-parallel\"><div class=\"sk-parallel-item\"><div class=\"sk-item\"><div class=\"sk-label-container\"><div class=\"sk-label sk-toggleable\"><input class=\"sk-toggleable__control sk-hidden--visually\" id=\"sk-estimator-id-2\" type=\"checkbox\" ><label for=\"sk-estimator-id-2\" class=\"sk-toggleable__label sk-toggleable__label-arrow\">forecaster: MultiplexForecaster</label><div class=\"sk-toggleable__content\"><pre>MultiplexForecaster(forecasters=[(&#x27;varmax&#x27;, VARMAX()), (&#x27;vecm&#x27;, VECM()),\n",
       "                                 (&#x27;dynamic_forecaster&#x27;, DynamicFactor())])</pre></div></div></div><div class=\"sk-serial\"><div class=\"sk-item\"><div class=\"sk-estimator sk-toggleable\"><input class=\"sk-toggleable__control sk-hidden--visually\" id=\"sk-estimator-id-3\" type=\"checkbox\" ><label for=\"sk-estimator-id-3\" class=\"sk-toggleable__label sk-toggleable__label-arrow\">MultiplexForecaster</label><div class=\"sk-toggleable__content\"><pre>MultiplexForecaster(forecasters=[(&#x27;varmax&#x27;, VARMAX()), (&#x27;vecm&#x27;, VECM()),\n",
       "                                 (&#x27;dynamic_forecaster&#x27;, DynamicFactor())])</pre></div></div></div></div></div></div></div></div></div></div>"
      ],
      "text/plain": [
       "ForecastingGridSearchCV(cv=ExpandingWindowSplitter(step_length=3),\n",
       "                        forecaster=MultiplexForecaster(forecasters=[('varmax',\n",
       "                                                                     VARMAX()),\n",
       "                                                                    ('vecm',\n",
       "                                                                     VECM()),\n",
       "                                                                    ('dynamic_forecaster',\n",
       "                                                                     DynamicFactor())]),\n",
       "                        param_grid={'selected_forecaster': ['varmax', 'vecm',\n",
       "                                                            'dynamic_forecaster']})"
      ]
     },
     "execution_count": 31,
     "metadata": {},
     "output_type": "execute_result"
    }
   ],
   "source": [
    "gscv.fit(y_train)"
   ]
  },
  {
   "cell_type": "code",
   "execution_count": 32,
   "id": "518eb541-947b-4789-9a4d-d767da0fbd46",
   "metadata": {},
   "outputs": [
    {
     "data": {
      "text/html": [
       "<style>#sk-container-id-2 {color: black;background-color: white;}#sk-container-id-2 pre{padding: 0;}#sk-container-id-2 div.sk-toggleable {background-color: white;}#sk-container-id-2 label.sk-toggleable__label {cursor: pointer;display: block;width: 100%;margin-bottom: 0;padding: 0.3em;box-sizing: border-box;text-align: center;}#sk-container-id-2 label.sk-toggleable__label-arrow:before {content: \"▸\";float: left;margin-right: 0.25em;color: #696969;}#sk-container-id-2 label.sk-toggleable__label-arrow:hover:before {color: black;}#sk-container-id-2 div.sk-estimator:hover label.sk-toggleable__label-arrow:before {color: black;}#sk-container-id-2 div.sk-toggleable__content {max-height: 0;max-width: 0;overflow: hidden;text-align: left;background-color: #f0f8ff;}#sk-container-id-2 div.sk-toggleable__content pre {margin: 0.2em;color: black;border-radius: 0.25em;background-color: #f0f8ff;}#sk-container-id-2 input.sk-toggleable__control:checked~div.sk-toggleable__content {max-height: 200px;max-width: 100%;overflow: auto;}#sk-container-id-2 input.sk-toggleable__control:checked~label.sk-toggleable__label-arrow:before {content: \"▾\";}#sk-container-id-2 div.sk-estimator input.sk-toggleable__control:checked~label.sk-toggleable__label {background-color: #d4ebff;}#sk-container-id-2 div.sk-label input.sk-toggleable__control:checked~label.sk-toggleable__label {background-color: #d4ebff;}#sk-container-id-2 input.sk-hidden--visually {border: 0;clip: rect(1px 1px 1px 1px);clip: rect(1px, 1px, 1px, 1px);height: 1px;margin: -1px;overflow: hidden;padding: 0;position: absolute;width: 1px;}#sk-container-id-2 div.sk-estimator {font-family: monospace;background-color: #f0f8ff;border: 1px dotted black;border-radius: 0.25em;box-sizing: border-box;margin-bottom: 0.5em;}#sk-container-id-2 div.sk-estimator:hover {background-color: #d4ebff;}#sk-container-id-2 div.sk-parallel-item::after {content: \"\";width: 100%;border-bottom: 1px solid gray;flex-grow: 1;}#sk-container-id-2 div.sk-label:hover label.sk-toggleable__label {background-color: #d4ebff;}#sk-container-id-2 div.sk-serial::before {content: \"\";position: absolute;border-left: 1px solid gray;box-sizing: border-box;top: 0;bottom: 0;left: 50%;z-index: 0;}#sk-container-id-2 div.sk-serial {display: flex;flex-direction: column;align-items: center;background-color: white;padding-right: 0.2em;padding-left: 0.2em;position: relative;}#sk-container-id-2 div.sk-item {position: relative;z-index: 1;}#sk-container-id-2 div.sk-parallel {display: flex;align-items: stretch;justify-content: center;background-color: white;position: relative;}#sk-container-id-2 div.sk-item::before, #sk-container-id-2 div.sk-parallel-item::before {content: \"\";position: absolute;border-left: 1px solid gray;box-sizing: border-box;top: 0;bottom: 0;left: 50%;z-index: -1;}#sk-container-id-2 div.sk-parallel-item {display: flex;flex-direction: column;z-index: 1;position: relative;background-color: white;}#sk-container-id-2 div.sk-parallel-item:first-child::after {align-self: flex-end;width: 50%;}#sk-container-id-2 div.sk-parallel-item:last-child::after {align-self: flex-start;width: 50%;}#sk-container-id-2 div.sk-parallel-item:only-child::after {width: 0;}#sk-container-id-2 div.sk-dashed-wrapped {border: 1px dashed gray;margin: 0 0.4em 0.5em 0.4em;box-sizing: border-box;padding-bottom: 0.4em;background-color: white;}#sk-container-id-2 div.sk-label label {font-family: monospace;font-weight: bold;display: inline-block;line-height: 1.2em;}#sk-container-id-2 div.sk-label-container {text-align: center;}#sk-container-id-2 div.sk-container {/* jupyter's `normalize.less` sets `[hidden] { display: none; }` but bootstrap.min.css set `[hidden] { display: none !important; }` so we also need the `!important` here to be able to override the default hidden behavior on the sphinx rendered scikit-learn.org. See: https://github.com/scikit-learn/scikit-learn/issues/21755 */display: inline-block !important;position: relative;}#sk-container-id-2 div.sk-text-repr-fallback {display: none;}</style><div id=\"sk-container-id-2\" class=\"sk-top-container\"><div class=\"sk-text-repr-fallback\"><pre>MultiplexForecaster(forecasters=[(&#x27;varmax&#x27;, VARMAX()), (&#x27;vecm&#x27;, VECM()),\n",
       "                                 (&#x27;dynamic_forecaster&#x27;, DynamicFactor())],\n",
       "                    selected_forecaster=&#x27;varmax&#x27;)</pre><b>In a Jupyter environment, please rerun this cell to show the HTML representation or trust the notebook. <br />On GitHub, the HTML representation is unable to render, please try loading this page with nbviewer.org.</b></div><div class=\"sk-container\" hidden><div class=\"sk-item\"><div class=\"sk-estimator sk-toggleable\"><input class=\"sk-toggleable__control sk-hidden--visually\" id=\"sk-estimator-id-4\" type=\"checkbox\" checked><label for=\"sk-estimator-id-4\" class=\"sk-toggleable__label sk-toggleable__label-arrow\">MultiplexForecaster</label><div class=\"sk-toggleable__content\"><pre>MultiplexForecaster(forecasters=[(&#x27;varmax&#x27;, VARMAX()), (&#x27;vecm&#x27;, VECM()),\n",
       "                                 (&#x27;dynamic_forecaster&#x27;, DynamicFactor())],\n",
       "                    selected_forecaster=&#x27;varmax&#x27;)</pre></div></div></div></div></div>"
      ],
      "text/plain": [
       "MultiplexForecaster(forecasters=[('varmax', VARMAX()), ('vecm', VECM()),\n",
       "                                 ('dynamic_forecaster', DynamicFactor())],\n",
       "                    selected_forecaster='varmax')"
      ]
     },
     "execution_count": 32,
     "metadata": {},
     "output_type": "execute_result"
    }
   ],
   "source": [
    "## Lets check which forecaster performed best\n",
    "\n",
    "gscv.best_forecaster_"
   ]
  },
  {
   "cell_type": "code",
   "execution_count": 33,
   "id": "e3f1d60d-5fcd-42b4-bdf1-5718ae7615bc",
   "metadata": {},
   "outputs": [
    {
     "data": {
      "text/plain": [
       "0.019637058523212632"
      ]
     },
     "execution_count": 33,
     "metadata": {},
     "output_type": "execute_result"
    }
   ],
   "source": [
    "## The best Score the varmax forecaster is 1.9% =2%\n",
    "\n",
    "gscv.best_score_"
   ]
  },
  {
   "cell_type": "code",
   "execution_count": 34,
   "id": "cdbd386c-bb9c-4b0e-bbd7-0db321d4e2ed",
   "metadata": {},
   "outputs": [
    {
     "data": {
      "text/html": [
       "<div>\n",
       "<style scoped>\n",
       "    .dataframe tbody tr th:only-of-type {\n",
       "        vertical-align: middle;\n",
       "    }\n",
       "\n",
       "    .dataframe tbody tr th {\n",
       "        vertical-align: top;\n",
       "    }\n",
       "\n",
       "    .dataframe thead th {\n",
       "        text-align: right;\n",
       "    }\n",
       "</style>\n",
       "<table border=\"1\" class=\"dataframe\">\n",
       "  <thead>\n",
       "    <tr style=\"text-align: right;\">\n",
       "      <th></th>\n",
       "      <th>mean_test_MeanAbsolutePercentageError</th>\n",
       "      <th>mean_fit_time</th>\n",
       "      <th>mean_pred_time</th>\n",
       "      <th>params</th>\n",
       "      <th>rank_test_MeanAbsolutePercentageError</th>\n",
       "    </tr>\n",
       "  </thead>\n",
       "  <tbody>\n",
       "    <tr>\n",
       "      <th>0</th>\n",
       "      <td>0.019637</td>\n",
       "      <td>2.458507</td>\n",
       "      <td>0.016555</td>\n",
       "      <td>{'selected_forecaster': 'varmax'}</td>\n",
       "      <td>1.0</td>\n",
       "    </tr>\n",
       "    <tr>\n",
       "      <th>1</th>\n",
       "      <td>0.021943</td>\n",
       "      <td>0.029165</td>\n",
       "      <td>0.005977</td>\n",
       "      <td>{'selected_forecaster': 'vecm'}</td>\n",
       "      <td>2.0</td>\n",
       "    </tr>\n",
       "    <tr>\n",
       "      <th>2</th>\n",
       "      <td>0.063045</td>\n",
       "      <td>0.191201</td>\n",
       "      <td>0.012488</td>\n",
       "      <td>{'selected_forecaster': 'dynamic_forecaster'}</td>\n",
       "      <td>3.0</td>\n",
       "    </tr>\n",
       "  </tbody>\n",
       "</table>\n",
       "</div>"
      ],
      "text/plain": [
       "   mean_test_MeanAbsolutePercentageError  mean_fit_time  mean_pred_time  \\\n",
       "0                               0.019637       2.458507        0.016555   \n",
       "1                               0.021943       0.029165        0.005977   \n",
       "2                               0.063045       0.191201        0.012488   \n",
       "\n",
       "                                          params  \\\n",
       "0              {'selected_forecaster': 'varmax'}   \n",
       "1                {'selected_forecaster': 'vecm'}   \n",
       "2  {'selected_forecaster': 'dynamic_forecaster'}   \n",
       "\n",
       "   rank_test_MeanAbsolutePercentageError  \n",
       "0                                    1.0  \n",
       "1                                    2.0  \n",
       "2                                    3.0  "
      ]
     },
     "execution_count": 34,
     "metadata": {},
     "output_type": "execute_result"
    }
   ],
   "source": [
    "## Let us check the errors of other model as well\n",
    "## Seeming Dynamicforecaster performed worst\n",
    "\n",
    "gscv.cv_results_"
   ]
  },
  {
   "cell_type": "code",
   "execution_count": 35,
   "id": "9aa91cc2-3d98-40fc-b84c-be296b04bb9b",
   "metadata": {},
   "outputs": [
    {
     "data": {
      "text/html": [
       "<div>\n",
       "<style scoped>\n",
       "    .dataframe tbody tr th:only-of-type {\n",
       "        vertical-align: middle;\n",
       "    }\n",
       "\n",
       "    .dataframe tbody tr th {\n",
       "        vertical-align: top;\n",
       "    }\n",
       "\n",
       "    .dataframe thead th {\n",
       "        text-align: right;\n",
       "    }\n",
       "</style>\n",
       "<table border=\"1\" class=\"dataframe\">\n",
       "  <thead>\n",
       "    <tr style=\"text-align: right;\">\n",
       "      <th></th>\n",
       "      <th>Open</th>\n",
       "      <th>High</th>\n",
       "      <th>Low</th>\n",
       "      <th>Close</th>\n",
       "    </tr>\n",
       "  </thead>\n",
       "  <tbody>\n",
       "    <tr>\n",
       "      <th>2022-06-26</th>\n",
       "      <td>658110.812022</td>\n",
       "      <td>686444.542847</td>\n",
       "      <td>640319.322654</td>\n",
       "      <td>668343.561228</td>\n",
       "    </tr>\n",
       "    <tr>\n",
       "      <th>2022-06-27</th>\n",
       "      <td>668521.149178</td>\n",
       "      <td>696914.261358</td>\n",
       "      <td>651030.442805</td>\n",
       "      <td>680574.091591</td>\n",
       "    </tr>\n",
       "    <tr>\n",
       "      <th>2022-06-28</th>\n",
       "      <td>680743.838539</td>\n",
       "      <td>709211.134723</td>\n",
       "      <td>662508.842297</td>\n",
       "      <td>692097.721798</td>\n",
       "    </tr>\n",
       "    <tr>\n",
       "      <th>2022-06-29</th>\n",
       "      <td>692258.753186</td>\n",
       "      <td>720677.588576</td>\n",
       "      <td>673487.573134</td>\n",
       "      <td>702961.585812</td>\n",
       "    </tr>\n",
       "    <tr>\n",
       "      <th>2022-06-30</th>\n",
       "      <td>703114.538030</td>\n",
       "      <td>731523.189236</td>\n",
       "      <td>683830.333370</td>\n",
       "      <td>713219.966665</td>\n",
       "    </tr>\n",
       "  </tbody>\n",
       "</table>\n",
       "</div>"
      ],
      "text/plain": [
       "                     Open           High            Low          Close\n",
       "2022-06-26  658110.812022  686444.542847  640319.322654  668343.561228\n",
       "2022-06-27  668521.149178  696914.261358  651030.442805  680574.091591\n",
       "2022-06-28  680743.838539  709211.134723  662508.842297  692097.721798\n",
       "2022-06-29  692258.753186  720677.588576  673487.573134  702961.585812\n",
       "2022-06-30  703114.538030  731523.189236  683830.333370  713219.966665"
      ]
     },
     "execution_count": 35,
     "metadata": {},
     "output_type": "execute_result"
    }
   ],
   "source": [
    "y_pred=gscv.predict(fh)\n",
    "y_pred"
   ]
  },
  {
   "cell_type": "code",
   "execution_count": 36,
   "id": "a0d19155-8511-40a4-adf2-d7e5593e652f",
   "metadata": {},
   "outputs": [
    {
     "data": {
      "text/html": [
       "<div>\n",
       "<style scoped>\n",
       "    .dataframe tbody tr th:only-of-type {\n",
       "        vertical-align: middle;\n",
       "    }\n",
       "\n",
       "    .dataframe tbody tr th {\n",
       "        vertical-align: top;\n",
       "    }\n",
       "\n",
       "    .dataframe thead th {\n",
       "        text-align: right;\n",
       "    }\n",
       "</style>\n",
       "<table border=\"1\" class=\"dataframe\">\n",
       "  <thead>\n",
       "    <tr style=\"text-align: right;\">\n",
       "      <th></th>\n",
       "      <th>Open</th>\n",
       "      <th>High</th>\n",
       "      <th>Low</th>\n",
       "      <th>Close</th>\n",
       "    </tr>\n",
       "  </thead>\n",
       "  <tbody>\n",
       "    <tr>\n",
       "      <th>2022-06-26</th>\n",
       "      <td>657985.23</td>\n",
       "      <td>668108.86</td>\n",
       "      <td>632510.11</td>\n",
       "      <td>642055.41</td>\n",
       "    </tr>\n",
       "    <tr>\n",
       "      <th>2022-06-27</th>\n",
       "      <td>642011.48</td>\n",
       "      <td>660647.21</td>\n",
       "      <td>624405.63</td>\n",
       "      <td>658478.13</td>\n",
       "    </tr>\n",
       "    <tr>\n",
       "      <th>2022-06-28</th>\n",
       "      <td>658371.52</td>\n",
       "      <td>683929.15</td>\n",
       "      <td>652974.60</td>\n",
       "      <td>681032.63</td>\n",
       "    </tr>\n",
       "    <tr>\n",
       "      <th>2022-06-29</th>\n",
       "      <td>681026.46</td>\n",
       "      <td>692248.11</td>\n",
       "      <td>650419.82</td>\n",
       "      <td>657059.55</td>\n",
       "    </tr>\n",
       "    <tr>\n",
       "      <th>2022-06-30</th>\n",
       "      <td>657068.19</td>\n",
       "      <td>669833.29</td>\n",
       "      <td>635972.54</td>\n",
       "      <td>650610.08</td>\n",
       "    </tr>\n",
       "  </tbody>\n",
       "</table>\n",
       "</div>"
      ],
      "text/plain": [
       "                 Open       High        Low      Close\n",
       "2022-06-26  657985.23  668108.86  632510.11  642055.41\n",
       "2022-06-27  642011.48  660647.21  624405.63  658478.13\n",
       "2022-06-28  658371.52  683929.15  652974.60  681032.63\n",
       "2022-06-29  681026.46  692248.11  650419.82  657059.55\n",
       "2022-06-30  657068.19  669833.29  635972.54  650610.08"
      ]
     },
     "execution_count": 36,
     "metadata": {},
     "output_type": "execute_result"
    }
   ],
   "source": [
    "y_test"
   ]
  },
  {
   "cell_type": "code",
   "execution_count": 37,
   "id": "860eaf9f-1fc6-4329-af3d-ccec75eaac07",
   "metadata": {},
   "outputs": [
    {
     "data": {
      "text/plain": [
       "0.042582612031081574"
      ]
     },
     "execution_count": 37,
     "metadata": {},
     "output_type": "execute_result"
    }
   ],
   "source": [
    "mean_absolute_percentage_error(y_test,y_pred)"
   ]
  }
 ],
 "metadata": {
  "kernelspec": {
   "display_name": "Python 3 (ipykernel)",
   "language": "python",
   "name": "python3"
  },
  "language_info": {
   "codemirror_mode": {
    "name": "ipython",
    "version": 3
   },
   "file_extension": ".py",
   "mimetype": "text/x-python",
   "name": "python",
   "nbconvert_exporter": "python",
   "pygments_lexer": "ipython3",
   "version": "3.9.12"
  }
 },
 "nbformat": 4,
 "nbformat_minor": 5
}
